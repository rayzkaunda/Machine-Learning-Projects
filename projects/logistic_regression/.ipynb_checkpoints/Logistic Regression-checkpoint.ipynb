{
 "cells": [
  {
   "cell_type": "code",
   "execution_count": 1,
   "metadata": {},
   "outputs": [],
   "source": [
    "#imports\n",
    "from pyspark.mllib.regression import LabeledPoint\n",
    "from pyspark.ml.linalg import Vectors\n",
    "from pyspark.ml.feature import VectorAssembler\n",
    "from pyspark.ml.feature import StringIndexer"
   ]
  },
  {
   "cell_type": "code",
   "execution_count": 6,
   "metadata": {
    "scrolled": true
   },
   "outputs": [
    {
     "name": "stdout",
     "output_type": "stream",
     "text": [
      "+---+------+------+--------+------+---------+-----------+\n",
      "|age|   sex|   bmi|children|smoker|   region|    charges|\n",
      "+---+------+------+--------+------+---------+-----------+\n",
      "| 19|female|  27.9|       0|   yes|southwest|  16884.924|\n",
      "| 18|  male| 33.77|       1|    no|southeast|  1725.5523|\n",
      "| 28|  male|  33.0|       3|    no|southeast|   4449.462|\n",
      "| 33|  male|22.705|       0|    no|northwest|21984.47061|\n",
      "| 32|  male| 28.88|       0|    no|northwest|  3866.8552|\n",
      "| 31|female| 25.74|       0|    no|southeast|  3756.6216|\n",
      "| 46|female| 33.44|       1|    no|southeast|  8240.5896|\n",
      "| 37|female| 27.74|       3|    no|northwest|  7281.5056|\n",
      "| 37|  male| 29.83|       2|    no|northeast|  6406.4107|\n",
      "| 60|female| 25.84|       0|    no|northwest|28923.13692|\n",
      "| 25|  male| 26.22|       0|    no|northeast|  2721.3208|\n",
      "| 62|female| 26.29|       0|   yes|southeast| 27808.7251|\n",
      "| 23|  male|  34.4|       0|    no|southwest|   1826.843|\n",
      "| 56|female| 39.82|       0|    no|southeast| 11090.7178|\n",
      "| 27|  male| 42.13|       0|   yes|southeast| 39611.7577|\n",
      "| 19|  male|  24.6|       1|    no|southwest|   1837.237|\n",
      "| 52|female| 30.78|       1|    no|northeast| 10797.3362|\n",
      "| 23|  male|23.845|       0|    no|northeast| 2395.17155|\n",
      "| 56|  male|  40.3|       0|    no|southwest|  10602.385|\n",
      "| 30|  male|  35.3|       0|   yes|southwest|  36837.467|\n",
      "+---+------+------+--------+------+---------+-----------+\n",
      "only showing top 20 rows\n",
      "\n"
     ]
    }
   ],
   "source": [
    "df = spark.read.format(\"csv\").load(\"/PATH_TO_YOUR_FILE/insuranceCharges.csv\", header = True,inferSchema = True)\n",
    "df.show()\n"
   ]
  },
  {
   "cell_type": "code",
   "execution_count": 8,
   "metadata": {},
   "outputs": [
    {
     "data": {
      "text/plain": [
       "1338"
      ]
     },
     "execution_count": 8,
     "metadata": {},
     "output_type": "execute_result"
    }
   ],
   "source": [
    "df.count()"
   ]
  },
  {
   "cell_type": "code",
   "execution_count": 9,
   "metadata": {},
   "outputs": [
    {
     "data": {
      "text/plain": [
       "DataFrame[summary: string, age: string, sex: string, bmi: string, children: string, smoker: string, region: string, charges: string]"
      ]
     },
     "execution_count": 9,
     "metadata": {},
     "output_type": "execute_result"
    }
   ],
   "source": [
    "df.describe()"
   ]
  },
  {
   "cell_type": "code",
   "execution_count": 10,
   "metadata": {},
   "outputs": [
    {
     "name": "stdout",
     "output_type": "stream",
     "text": [
      "root\n",
      " |-- age: integer (nullable = true)\n",
      " |-- sex: string (nullable = true)\n",
      " |-- bmi: double (nullable = true)\n",
      " |-- children: integer (nullable = true)\n",
      " |-- smoker: string (nullable = true)\n",
      " |-- region: string (nullable = true)\n",
      " |-- charges: double (nullable = true)\n",
      "\n"
     ]
    }
   ],
   "source": [
    "df.printSchema()"
   ]
  },
  {
   "cell_type": "code",
   "execution_count": 17,
   "metadata": {},
   "outputs": [],
   "source": [
    "from pyspark.ml.classification import LogisticRegression"
   ]
  },
  {
   "cell_type": "code",
   "execution_count": 14,
   "metadata": {},
   "outputs": [
    {
     "name": "stdout",
     "output_type": "stream",
     "text": [
      "+--------------------+------+\n",
      "|            features|smoker|\n",
      "+--------------------+------+\n",
      "|[19.0,27.9,16884....|   yes|\n",
      "|[18.0,33.77,1725....|    no|\n",
      "|[28.0,33.0,4449.462]|    no|\n",
      "|[33.0,22.705,2198...|    no|\n",
      "|[32.0,28.88,3866....|    no|\n",
      "|[31.0,25.74,3756....|    no|\n",
      "|[46.0,33.44,8240....|    no|\n",
      "|[37.0,27.74,7281....|    no|\n",
      "|[37.0,29.83,6406....|    no|\n",
      "|[60.0,25.84,28923...|    no|\n",
      "|[25.0,26.22,2721....|    no|\n",
      "|[62.0,26.29,27808...|   yes|\n",
      "|[23.0,34.4,1826.843]|    no|\n",
      "|[56.0,39.82,11090...|    no|\n",
      "|[27.0,42.13,39611...|   yes|\n",
      "|[19.0,24.6,1837.237]|    no|\n",
      "|[52.0,30.78,10797...|    no|\n",
      "|[23.0,23.845,2395...|    no|\n",
      "|[56.0,40.3,10602....|    no|\n",
      "|[30.0,35.3,36837....|   yes|\n",
      "+--------------------+------+\n",
      "only showing top 20 rows\n",
      "\n"
     ]
    }
   ],
   "source": [
    "\n",
    "#Select feature columns and convert them to numerical format \n",
    "\n",
    "\n",
    "assembler = VectorAssembler(\n",
    "    inputCols=[\"age\",\"bmi\", \"charges\"],\n",
    "    outputCol=\"features\")\n",
    "output = assembler.transform(df)\n",
    "output.select('features', 'smoker').show()"
   ]
  },
  {
   "cell_type": "code",
   "execution_count": 19,
   "metadata": {},
   "outputs": [],
   "source": [
    "#split train and test data\n",
    "train, test = output.randomSplit([0.7,0.3])"
   ]
  },
  {
   "cell_type": "code",
   "execution_count": 20,
   "metadata": {},
   "outputs": [
    {
     "name": "stdout",
     "output_type": "stream",
     "text": [
      "+---+------+------+--------+------+---------+-----------+--------------------+\n",
      "|age|   sex|   bmi|children|smoker|   region|    charges|            features|\n",
      "+---+------+------+--------+------+---------+-----------+--------------------+\n",
      "| 19|female|  27.9|       0|   yes|southwest|  16884.924|[19.0,27.9,16884....|\n",
      "| 18|  male| 33.77|       1|    no|southeast|  1725.5523|[18.0,33.77,1725....|\n",
      "| 28|  male|  33.0|       3|    no|southeast|   4449.462|[28.0,33.0,4449.462]|\n",
      "| 33|  male|22.705|       0|    no|northwest|21984.47061|[33.0,22.705,2198...|\n",
      "| 32|  male| 28.88|       0|    no|northwest|  3866.8552|[32.0,28.88,3866....|\n",
      "+---+------+------+--------+------+---------+-----------+--------------------+\n",
      "only showing top 5 rows\n",
      "\n"
     ]
    }
   ],
   "source": [
    "output.show(5)"
   ]
  },
  {
   "cell_type": "code",
   "execution_count": 21,
   "metadata": {},
   "outputs": [],
   "source": [
    "features_labelDf = output.select(\"smoker\", \"features\")"
   ]
  },
  {
   "cell_type": "code",
   "execution_count": 40,
   "metadata": {},
   "outputs": [
    {
     "name": "stdout",
     "output_type": "stream",
     "text": [
      "+------+--------------------+-----+\n",
      "|smoker|            features|label|\n",
      "+------+--------------------+-----+\n",
      "|   yes|[19.0,27.9,16884....|  1.0|\n",
      "|    no|[18.0,33.77,1725....|  0.0|\n",
      "|    no|[28.0,33.0,4449.462]|  0.0|\n",
      "|    no|[33.0,22.705,2198...|  0.0|\n",
      "|    no|[32.0,28.88,3866....|  0.0|\n",
      "|    no|[31.0,25.74,3756....|  0.0|\n",
      "|    no|[46.0,33.44,8240....|  0.0|\n",
      "|    no|[37.0,27.74,7281....|  0.0|\n",
      "|    no|[37.0,29.83,6406....|  0.0|\n",
      "|    no|[60.0,25.84,28923...|  0.0|\n",
      "|    no|[25.0,26.22,2721....|  0.0|\n",
      "|   yes|[62.0,26.29,27808...|  1.0|\n",
      "|    no|[23.0,34.4,1826.843]|  0.0|\n",
      "|    no|[56.0,39.82,11090...|  0.0|\n",
      "|   yes|[27.0,42.13,39611...|  1.0|\n",
      "|    no|[19.0,24.6,1837.237]|  0.0|\n",
      "|    no|[52.0,30.78,10797...|  0.0|\n",
      "|    no|[23.0,23.845,2395...|  0.0|\n",
      "|    no|[56.0,40.3,10602....|  0.0|\n",
      "|   yes|[30.0,35.3,36837....|  1.0|\n",
      "+------+--------------------+-----+\n",
      "only showing top 20 rows\n",
      "\n"
     ]
    }
   ],
   "source": [
    "#change smoker column to vector\n",
    "indexer = StringIndexer(inputCol=\"smoker\", outputCol=\"label\")\n",
    "indexed = indexer.fit(features_labelDf).transform(features_labelDf)\n",
    "indexed.show()"
   ]
  },
  {
   "cell_type": "code",
   "execution_count": 41,
   "metadata": {},
   "outputs": [],
   "source": [
    "#split train and test data\n",
    "train, test = indexed.randomSplit([0.7,0.3])"
   ]
  },
  {
   "cell_type": "code",
   "execution_count": 42,
   "metadata": {},
   "outputs": [],
   "source": [
    "\n",
    "#final model\n",
    "final_model = LogisticRegression(featuresCol='features', labelCol='label', maxIter=10)"
   ]
  },
  {
   "cell_type": "code",
   "execution_count": 43,
   "metadata": {},
   "outputs": [],
   "source": [
    "fit_final = final_model.fit(train)"
   ]
  },
  {
   "cell_type": "code",
   "execution_count": 44,
   "metadata": {},
   "outputs": [],
   "source": [
    "#Evaluate predictions on test\n",
    "predictions_and_labels = fit_final.evaluate(test)"
   ]
  },
  {
   "cell_type": "code",
   "execution_count": 45,
   "metadata": {},
   "outputs": [
    {
     "name": "stdout",
     "output_type": "stream",
     "text": [
      "+------+--------------------+-----+--------------------+--------------------+----------+\n",
      "|smoker|            features|label|       rawPrediction|         probability|prediction|\n",
      "+------+--------------------+-----+--------------------+--------------------+----------+\n",
      "|    no|[18.0,22.99,1704....|  0.0|[4.71906598009089...|[0.99115541534159...|       0.0|\n",
      "|    no|[18.0,23.21,1121....|  0.0|[4.95640124008155...|[0.99301097906187...|       0.0|\n",
      "|    no|[18.0,23.32,1711....|  0.0|[4.76403521893022...|[0.99154104934873...|       0.0|\n",
      "|    no|[18.0,23.75,1705....|  0.0|[4.82751272589899...|[0.99205718279791...|       0.0|\n",
      "|    no|[18.0,26.18,2304....|  0.0|[4.96407518590030...|[0.99306403659012...|       0.0|\n",
      "+------+--------------------+-----+--------------------+--------------------+----------+\n",
      "only showing top 5 rows\n",
      "\n"
     ]
    }
   ],
   "source": [
    "predictions_and_labels.predictions.show(5)"
   ]
  },
  {
   "cell_type": "code",
   "execution_count": 47,
   "metadata": {},
   "outputs": [],
   "source": [
    "from pyspark.ml.evaluation import BinaryClassificationEvaluator\n",
    "\n",
    "my_eval =  BinaryClassificationEvaluator(labelCol=\"label\")\n",
    "my_final_roc = my_eval.evaluate(predictions_and_labels.predictions)"
   ]
  },
  {
   "cell_type": "code",
   "execution_count": 48,
   "metadata": {},
   "outputs": [
    {
     "name": "stdout",
     "output_type": "stream",
     "text": [
      "0.986049107143\n"
     ]
    }
   ],
   "source": [
    "print my_final_roc"
   ]
  },
  {
   "cell_type": "code",
   "execution_count": null,
   "metadata": {},
   "outputs": [],
   "source": []
  }
 ],
 "metadata": {
  "kernelspec": {
   "display_name": "Python 2",
   "language": "python",
   "name": "python2"
  },
  "language_info": {
   "codemirror_mode": {
    "name": "ipython",
    "version": 2
   },
   "file_extension": ".py",
   "mimetype": "text/x-python",
   "name": "python",
   "nbconvert_exporter": "python",
   "pygments_lexer": "ipython2",
   "version": "2.7.13"
  }
 },
 "nbformat": 4,
 "nbformat_minor": 2
}
